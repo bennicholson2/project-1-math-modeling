{
 "cells": [
  {
   "attachments": {},
   "cell_type": "markdown",
   "metadata": {},
   "source": [
    "1. For each of the data sets below, determine if it is reasonable to assume that y is\n",
    "proportional to x. If it is, approximate the constant of proportionality. If it is not, describe why this\n",
    "assumption is not reasonable."
   ]
  },
  {
   "attachments": {},
   "cell_type": "markdown",
   "metadata": {},
   "source": [
    "1a)"
   ]
  },
  {
   "cell_type": "code",
   "execution_count": 77,
   "metadata": {},
   "outputs": [],
   "source": [
    "#Import packages which may be used for this problem\n",
    "import matplotlib.pyplot as plt\n",
    "import pandas as pd\n",
    "import seaborn as sns\n",
    "import numpy as np"
   ]
  },
  {
   "cell_type": "code",
   "execution_count": 78,
   "metadata": {},
   "outputs": [],
   "source": [
    "#Import the data\n",
    "x_1=[1,1.1,1.2,1.3,1.4,1.5,1.6,1.7]\n",
    "y_1=[1,1.21,1.44,1.69,1.96,2.25,2.56,2.89]"
   ]
  },
  {
   "cell_type": "code",
   "execution_count": 79,
   "metadata": {},
   "outputs": [],
   "source": [
    "#Create a function that allows you to create plots, this will be useful for each of the datasets\n",
    "def plot(x,y,xlabel, ylabel, title,grid=True):\n",
    "    plt.plot(x,y,marker='o')\n",
    "    plt.xlabel(xlabel)\n",
    "    plt.ylabel(ylabel)\n",
    "    plt.title(title)\n",
    "    plt.grid(True)\n",
    "    plt.show()"
   ]
  },
  {
   "cell_type": "code",
   "execution_count": 80,
   "metadata": {},
   "outputs": [
    {
     "data": {
      "image/png": "[encoded data removed]",
      "text/plain": [
       "<Figure size 640x480 with 1 Axes>"
      ]
     },
     "metadata": {},
     "output_type": "display_data"
    }
   ],
   "source": [
    "#Plot the first data\n",
    "plot(x_1,y_1,'x values', 'y values', 'Graph of x vs y')"
   ]
  },
  {
   "attachments": {},
   "cell_type": "markdown",
   "metadata": {},
   "source": [
    "When plotting x vs y, it shows a relationship which is close to linear but has a curve to the data. The next step is to look at the growth to ensure that it is not actually linear (x is proportional to y)"
   ]
  },
  {
   "cell_type": "code",
   "execution_count": 81,
   "metadata": {},
   "outputs": [
    {
     "data": {
      "text/html": [
       "<div>\n",
       "<style scoped>\n",
       "    .dataframe tbody tr th:only-of-type {\n",
       "        vertical-align: middle;\n",
       "    }\n",
       "\n",
       "    .dataframe tbody tr th {\n",
       "        vertical-align: top;\n",
       "    }\n",
       "\n",
       "    .dataframe thead th {\n",
       "        text-align: right;\n",
       "    }\n",
       "</style>\n",
       "<table border=\"1\" class=\"dataframe\">\n",
       "  <thead>\n",
       "    <tr style=\"text-align: right;\">\n",
       "      <th></th>\n",
       "      <th>x values</th>\n",
       "      <th>y values</th>\n",
       "    </tr>\n",
       "  </thead>\n",
       "  <tbody>\n",
       "    <tr>\n",
       "      <th>0</th>\n",
       "      <td>1.0</td>\n",
       "      <td>1.00</td>\n",
       "    </tr>\n",
       "    <tr>\n",
       "      <th>1</th>\n",
       "      <td>1.1</td>\n",
       "      <td>1.21</td>\n",
       "    </tr>\n",
       "    <tr>\n",
       "      <th>2</th>\n",
       "      <td>1.2</td>\n",
       "      <td>1.44</td>\n",
       "    </tr>\n",
       "    <tr>\n",
       "      <th>3</th>\n",
       "      <td>1.3</td>\n",
       "      <td>1.69</td>\n",
       "    </tr>\n",
       "    <tr>\n",
       "      <th>4</th>\n",
       "      <td>1.4</td>\n",
       "      <td>1.96</td>\n",
       "    </tr>\n",
       "    <tr>\n",
       "      <th>5</th>\n",
       "      <td>1.5</td>\n",
       "      <td>2.25</td>\n",
       "    </tr>\n",
       "    <tr>\n",
       "      <th>6</th>\n",
       "      <td>1.6</td>\n",
       "      <td>2.56</td>\n",
       "    </tr>\n",
       "    <tr>\n",
       "      <th>7</th>\n",
       "      <td>1.7</td>\n",
       "      <td>2.89</td>\n",
       "    </tr>\n",
       "  </tbody>\n",
       "</table>\n",
       "</div>"
      ],
      "text/plain": [
       "   x values  y values\n",
       "0       1.0      1.00\n",
       "1       1.1      1.21\n",
       "2       1.2      1.44\n",
       "3       1.3      1.69\n",
       "4       1.4      1.96\n",
       "5       1.5      2.25\n",
       "6       1.6      2.56\n",
       "7       1.7      2.89"
      ]
     },
     "execution_count": 81,
     "metadata": {},
     "output_type": "execute_result"
    }
   ],
   "source": [
    "#Want to look at the growth rate so this data can be made into a dataframe\n",
    "df = pd.DataFrame({'x values': x_1, 'y values': y_1})\n",
    "df"
   ]
  },
  {
   "attachments": {},
   "cell_type": "markdown",
   "metadata": {},
   "source": [
    "This already makes it clear when you look at the increase in x the increase in y is doing so at an increasing rate.\n",
    "\n",
    "This is going to be proved in the section below"
   ]
  },
  {
   "cell_type": "code",
   "execution_count": 82,
   "metadata": {},
   "outputs": [],
   "source": [
    "#Let's using the diff() function to compared the old value with the current value\n",
    "df['Change in y values'] = df['y values'].diff()\n",
    "df['Change in x values'] = df['x values'].diff()"
   ]
  },
  {
   "cell_type": "code",
   "execution_count": 83,
   "metadata": {},
   "outputs": [
    {
     "data": {
      "text/html": [
       "<div>\n",
       "<style scoped>\n",
       "    .dataframe tbody tr th:only-of-type {\n",
       "        vertical-align: middle;\n",
       "    }\n",
       "\n",
       "    .dataframe tbody tr th {\n",
       "        vertical-align: top;\n",
       "    }\n",
       "\n",
       "    .dataframe thead th {\n",
       "        text-align: right;\n",
       "    }\n",
       "</style>\n",
       "<table border=\"1\" class=\"dataframe\">\n",
       "  <thead>\n",
       "    <tr style=\"text-align: right;\">\n",
       "      <th></th>\n",
       "      <th>x values</th>\n",
       "      <th>y values</th>\n",
       "      <th>Change in y values</th>\n",
       "      <th>Change in x values</th>\n",
       "    </tr>\n",
       "  </thead>\n",
       "  <tbody>\n",
       "    <tr>\n",
       "      <th>0</th>\n",
       "      <td>1.0</td>\n",
       "      <td>1.00</td>\n",
       "      <td>NaN</td>\n",
       "      <td>NaN</td>\n",
       "    </tr>\n",
       "    <tr>\n",
       "      <th>1</th>\n",
       "      <td>1.1</td>\n",
       "      <td>1.21</td>\n",
       "      <td>0.21</td>\n",
       "      <td>0.1</td>\n",
       "    </tr>\n",
       "    <tr>\n",
       "      <th>2</th>\n",
       "      <td>1.2</td>\n",
       "      <td>1.44</td>\n",
       "      <td>0.23</td>\n",
       "      <td>0.1</td>\n",
       "    </tr>\n",
       "    <tr>\n",
       "      <th>3</th>\n",
       "      <td>1.3</td>\n",
       "      <td>1.69</td>\n",
       "      <td>0.25</td>\n",
       "      <td>0.1</td>\n",
       "    </tr>\n",
       "    <tr>\n",
       "      <th>4</th>\n",
       "      <td>1.4</td>\n",
       "      <td>1.96</td>\n",
       "      <td>0.27</td>\n",
       "      <td>0.1</td>\n",
       "    </tr>\n",
       "    <tr>\n",
       "      <th>5</th>\n",
       "      <td>1.5</td>\n",
       "      <td>2.25</td>\n",
       "      <td>0.29</td>\n",
       "      <td>0.1</td>\n",
       "    </tr>\n",
       "    <tr>\n",
       "      <th>6</th>\n",
       "      <td>1.6</td>\n",
       "      <td>2.56</td>\n",
       "      <td>0.31</td>\n",
       "      <td>0.1</td>\n",
       "    </tr>\n",
       "    <tr>\n",
       "      <th>7</th>\n",
       "      <td>1.7</td>\n",
       "      <td>2.89</td>\n",
       "      <td>0.33</td>\n",
       "      <td>0.1</td>\n",
       "    </tr>\n",
       "  </tbody>\n",
       "</table>\n",
       "</div>"
      ],
      "text/plain": [
       "   x values  y values  Change in y values  Change in x values\n",
       "0       1.0      1.00                 NaN                 NaN\n",
       "1       1.1      1.21                0.21                 0.1\n",
       "2       1.2      1.44                0.23                 0.1\n",
       "3       1.3      1.69                0.25                 0.1\n",
       "4       1.4      1.96                0.27                 0.1\n",
       "5       1.5      2.25                0.29                 0.1\n",
       "6       1.6      2.56                0.31                 0.1\n",
       "7       1.7      2.89                0.33                 0.1"
      ]
     },
     "execution_count": 83,
     "metadata": {},
     "output_type": "execute_result"
    }
   ],
   "source": [
    "df"
   ]
  },
  {
   "attachments": {},
   "cell_type": "markdown",
   "metadata": {},
   "source": [
    "You can observe that the change in x does not match the change in y. If the y values were to increase at a constant rate then you could apporximate the constant of proportionality but as the change in y values is increasing, you cannot assume this. "
   ]
  },
  {
   "cell_type": "code",
   "execution_count": 84,
   "metadata": {},
   "outputs": [
    {
     "data": {
      "text/html": [
       "<div>\n",
       "<style scoped>\n",
       "    .dataframe tbody tr th:only-of-type {\n",
       "        vertical-align: middle;\n",
       "    }\n",
       "\n",
       "    .dataframe tbody tr th {\n",
       "        vertical-align: top;\n",
       "    }\n",
       "\n",
       "    .dataframe thead th {\n",
       "        text-align: right;\n",
       "    }\n",
       "</style>\n",
       "<table border=\"1\" class=\"dataframe\">\n",
       "  <thead>\n",
       "    <tr style=\"text-align: right;\">\n",
       "      <th></th>\n",
       "      <th>x values</th>\n",
       "      <th>y values</th>\n",
       "      <th>Change in y values</th>\n",
       "      <th>Change in x values</th>\n",
       "      <th>Change between each y value difference</th>\n",
       "    </tr>\n",
       "  </thead>\n",
       "  <tbody>\n",
       "    <tr>\n",
       "      <th>0</th>\n",
       "      <td>1.0</td>\n",
       "      <td>1.00</td>\n",
       "      <td>NaN</td>\n",
       "      <td>NaN</td>\n",
       "      <td>NaN</td>\n",
       "    </tr>\n",
       "    <tr>\n",
       "      <th>1</th>\n",
       "      <td>1.1</td>\n",
       "      <td>1.21</td>\n",
       "      <td>0.21</td>\n",
       "      <td>0.1</td>\n",
       "      <td>NaN</td>\n",
       "    </tr>\n",
       "    <tr>\n",
       "      <th>2</th>\n",
       "      <td>1.2</td>\n",
       "      <td>1.44</td>\n",
       "      <td>0.23</td>\n",
       "      <td>0.1</td>\n",
       "      <td>0.02</td>\n",
       "    </tr>\n",
       "    <tr>\n",
       "      <th>3</th>\n",
       "      <td>1.3</td>\n",
       "      <td>1.69</td>\n",
       "      <td>0.25</td>\n",
       "      <td>0.1</td>\n",
       "      <td>0.02</td>\n",
       "    </tr>\n",
       "    <tr>\n",
       "      <th>4</th>\n",
       "      <td>1.4</td>\n",
       "      <td>1.96</td>\n",
       "      <td>0.27</td>\n",
       "      <td>0.1</td>\n",
       "      <td>0.02</td>\n",
       "    </tr>\n",
       "    <tr>\n",
       "      <th>5</th>\n",
       "      <td>1.5</td>\n",
       "      <td>2.25</td>\n",
       "      <td>0.29</td>\n",
       "      <td>0.1</td>\n",
       "      <td>0.02</td>\n",
       "    </tr>\n",
       "    <tr>\n",
       "      <th>6</th>\n",
       "      <td>1.6</td>\n",
       "      <td>2.56</td>\n",
       "      <td>0.31</td>\n",
       "      <td>0.1</td>\n",
       "      <td>0.02</td>\n",
       "    </tr>\n",
       "    <tr>\n",
       "      <th>7</th>\n",
       "      <td>1.7</td>\n",
       "      <td>2.89</td>\n",
       "      <td>0.33</td>\n",
       "      <td>0.1</td>\n",
       "      <td>0.02</td>\n",
       "    </tr>\n",
       "  </tbody>\n",
       "</table>\n",
       "</div>"
      ],
      "text/plain": [
       "   x values  y values  Change in y values  Change in x values  \\\n",
       "0       1.0      1.00                 NaN                 NaN   \n",
       "1       1.1      1.21                0.21                 0.1   \n",
       "2       1.2      1.44                0.23                 0.1   \n",
       "3       1.3      1.69                0.25                 0.1   \n",
       "4       1.4      1.96                0.27                 0.1   \n",
       "5       1.5      2.25                0.29                 0.1   \n",
       "6       1.6      2.56                0.31                 0.1   \n",
       "7       1.7      2.89                0.33                 0.1   \n",
       "\n",
       "   Change between each y value difference  \n",
       "0                                     NaN  \n",
       "1                                     NaN  \n",
       "2                                    0.02  \n",
       "3                                    0.02  \n",
       "4                                    0.02  \n",
       "5                                    0.02  \n",
       "6                                    0.02  \n",
       "7                                    0.02  "
      ]
     },
     "execution_count": 84,
     "metadata": {},
     "output_type": "execute_result"
    }
   ],
   "source": [
    "df['Change between each y value difference'] = df['Change in y values'].diff()\n",
    "df"
   ]
  },
  {
   "attachments": {},
   "cell_type": "markdown",
   "metadata": {},
   "source": [
    "As the change in y is increasing at a certain rate, this suggests that the relationship between x and y is when x values are squared do they equal y values. "
   ]
  },
  {
   "cell_type": "code",
   "execution_count": 85,
   "metadata": {},
   "outputs": [
    {
     "data": {
      "image/png": "[encoded data removed]",
      "text/plain": [
       "<Figure size 640x480 with 1 Axes>"
      ]
     },
     "metadata": {},
     "output_type": "display_data"
    }
   ],
   "source": [
    "plot(df['x values'], df['Change in y values'], 'x change','y change', 'Change in x vs Change in y')"
   ]
  },
  {
   "attachments": {},
   "cell_type": "markdown",
   "metadata": {},
   "source": [
    "When you graph the change in change in y values it creates a linear graph. This has a derivative of 0.02 as for every increase in x there is a 0.02 increase in y which is found from the original data. To further prove that the relationship is not constant between x and y, a transformation to the y values is going to take place."
   ]
  },
  {
   "cell_type": "code",
   "execution_count": 86,
   "metadata": {},
   "outputs": [
    {
     "data": {
      "text/html": [
       "<div>\n",
       "<style scoped>\n",
       "    .dataframe tbody tr th:only-of-type {\n",
       "        vertical-align: middle;\n",
       "    }\n",
       "\n",
       "    .dataframe tbody tr th {\n",
       "        vertical-align: top;\n",
       "    }\n",
       "\n",
       "    .dataframe thead th {\n",
       "        text-align: right;\n",
       "    }\n",
       "</style>\n",
       "<table border=\"1\" class=\"dataframe\">\n",
       "  <thead>\n",
       "    <tr style=\"text-align: right;\">\n",
       "      <th></th>\n",
       "      <th>x values</th>\n",
       "      <th>y values</th>\n",
       "      <th>Change in y values</th>\n",
       "      <th>Change in x values</th>\n",
       "      <th>Change between each y value difference</th>\n",
       "      <th>square root of y values</th>\n",
       "    </tr>\n",
       "  </thead>\n",
       "  <tbody>\n",
       "    <tr>\n",
       "      <th>0</th>\n",
       "      <td>1.0</td>\n",
       "      <td>1.00</td>\n",
       "      <td>NaN</td>\n",
       "      <td>NaN</td>\n",
       "      <td>NaN</td>\n",
       "      <td>1.0</td>\n",
       "    </tr>\n",
       "    <tr>\n",
       "      <th>1</th>\n",
       "      <td>1.1</td>\n",
       "      <td>1.21</td>\n",
       "      <td>0.21</td>\n",
       "      <td>0.1</td>\n",
       "      <td>NaN</td>\n",
       "      <td>1.1</td>\n",
       "    </tr>\n",
       "    <tr>\n",
       "      <th>2</th>\n",
       "      <td>1.2</td>\n",
       "      <td>1.44</td>\n",
       "      <td>0.23</td>\n",
       "      <td>0.1</td>\n",
       "      <td>0.02</td>\n",
       "      <td>1.2</td>\n",
       "    </tr>\n",
       "    <tr>\n",
       "      <th>3</th>\n",
       "      <td>1.3</td>\n",
       "      <td>1.69</td>\n",
       "      <td>0.25</td>\n",
       "      <td>0.1</td>\n",
       "      <td>0.02</td>\n",
       "      <td>1.3</td>\n",
       "    </tr>\n",
       "    <tr>\n",
       "      <th>4</th>\n",
       "      <td>1.4</td>\n",
       "      <td>1.96</td>\n",
       "      <td>0.27</td>\n",
       "      <td>0.1</td>\n",
       "      <td>0.02</td>\n",
       "      <td>1.4</td>\n",
       "    </tr>\n",
       "    <tr>\n",
       "      <th>5</th>\n",
       "      <td>1.5</td>\n",
       "      <td>2.25</td>\n",
       "      <td>0.29</td>\n",
       "      <td>0.1</td>\n",
       "      <td>0.02</td>\n",
       "      <td>1.5</td>\n",
       "    </tr>\n",
       "    <tr>\n",
       "      <th>6</th>\n",
       "      <td>1.6</td>\n",
       "      <td>2.56</td>\n",
       "      <td>0.31</td>\n",
       "      <td>0.1</td>\n",
       "      <td>0.02</td>\n",
       "      <td>1.6</td>\n",
       "    </tr>\n",
       "    <tr>\n",
       "      <th>7</th>\n",
       "      <td>1.7</td>\n",
       "      <td>2.89</td>\n",
       "      <td>0.33</td>\n",
       "      <td>0.1</td>\n",
       "      <td>0.02</td>\n",
       "      <td>1.7</td>\n",
       "    </tr>\n",
       "  </tbody>\n",
       "</table>\n",
       "</div>"
      ],
      "text/plain": [
       "   x values  y values  Change in y values  Change in x values  \\\n",
       "0       1.0      1.00                 NaN                 NaN   \n",
       "1       1.1      1.21                0.21                 0.1   \n",
       "2       1.2      1.44                0.23                 0.1   \n",
       "3       1.3      1.69                0.25                 0.1   \n",
       "4       1.4      1.96                0.27                 0.1   \n",
       "5       1.5      2.25                0.29                 0.1   \n",
       "6       1.6      2.56                0.31                 0.1   \n",
       "7       1.7      2.89                0.33                 0.1   \n",
       "\n",
       "   Change between each y value difference  square root of y values  \n",
       "0                                     NaN                      1.0  \n",
       "1                                     NaN                      1.1  \n",
       "2                                    0.02                      1.2  \n",
       "3                                    0.02                      1.3  \n",
       "4                                    0.02                      1.4  \n",
       "5                                    0.02                      1.5  \n",
       "6                                    0.02                      1.6  \n",
       "7                                    0.02                      1.7  "
      ]
     },
     "execution_count": 86,
     "metadata": {},
     "output_type": "execute_result"
    }
   ],
   "source": [
    "df['square root of y values'] = np.sqrt(df['y values'])\n",
    "df"
   ]
  },
  {
   "cell_type": "code",
   "execution_count": 87,
   "metadata": {},
   "outputs": [
    {
     "data": {
      "image/png": "[encoded data removed]",
      "text/plain": [
       "<Figure size 640x480 with 1 Axes>"
      ]
     },
     "metadata": {},
     "output_type": "display_data"
    }
   ],
   "source": [
    "#Now graph this\n",
    "plot(df['x values'], df['square root of y values'],'x values', 'square root of y values', 'graph of x vs square root of y')"
   ]
  },
  {
   "attachments": {},
   "cell_type": "markdown",
   "metadata": {},
   "source": [
    "As this graph is constant it is fair to say that the proportional between x and y has a squared relationship. As the values of y are squared root or the values of x are squared it creates a direct proportional relationship."
   ]
  },
  {
   "attachments": {},
   "cell_type": "markdown",
   "metadata": {},
   "source": [
    "1b)"
   ]
  },
  {
   "cell_type": "code",
   "execution_count": 88,
   "metadata": {},
   "outputs": [],
   "source": [
    "#Load the second section of data\n",
    "x_2 = [1,5,7,2,10,12,3,6]\n",
    "y_2 = [0.79,10.89,14.37,5.75,23.36,26.29,3.76,16.12]"
   ]
  },
  {
   "cell_type": "code",
   "execution_count": 89,
   "metadata": {},
   "outputs": [
    {
     "data": {
      "image/png": "[encoded data removed]",
      "text/plain": [
       "<Figure size 640x480 with 1 Axes>"
      ]
     },
     "metadata": {},
     "output_type": "display_data"
    }
   ],
   "source": [
    "#Create a graph of the points\n",
    "plot(x_2,y_2,'x values', 'y values', 'Graph of x vs y')"
   ]
  },
  {
   "cell_type": "code",
   "execution_count": 90,
   "metadata": {},
   "outputs": [],
   "source": [
    "#This graph does not have the data points. To make the graph more clear, using the sorted function we are going to sort both the x and y values\n",
    "x_2 = sorted(x_2)\n",
    "y_2 = sorted(y_2)"
   ]
  },
  {
   "cell_type": "code",
   "execution_count": 91,
   "metadata": {},
   "outputs": [
    {
     "data": {
      "image/png": "[encoded data removed]",
      "text/plain": [
       "<Figure size 640x480 with 1 Axes>"
      ]
     },
     "metadata": {},
     "output_type": "display_data"
    }
   ],
   "source": [
    "#Plot the same graph but with new values\n",
    "plot(x_2,y_2,'x values', 'y values', 'x vs y values')"
   ]
  },
  {
   "attachments": {},
   "cell_type": "markdown",
   "metadata": {},
   "source": [
    "First observing the data there seems to be no constant change from x to y which suggests that you cannot approximate the constant of proportionaility."
   ]
  },
  {
   "cell_type": "code",
   "execution_count": 92,
   "metadata": {},
   "outputs": [
    {
     "data": {
      "text/html": [
       "<div>\n",
       "<style scoped>\n",
       "    .dataframe tbody tr th:only-of-type {\n",
       "        vertical-align: middle;\n",
       "    }\n",
       "\n",
       "    .dataframe tbody tr th {\n",
       "        vertical-align: top;\n",
       "    }\n",
       "\n",
       "    .dataframe thead th {\n",
       "        text-align: right;\n",
       "    }\n",
       "</style>\n",
       "<table border=\"1\" class=\"dataframe\">\n",
       "  <thead>\n",
       "    <tr style=\"text-align: right;\">\n",
       "      <th></th>\n",
       "      <th>x values</th>\n",
       "      <th>y values</th>\n",
       "    </tr>\n",
       "  </thead>\n",
       "  <tbody>\n",
       "    <tr>\n",
       "      <th>0</th>\n",
       "      <td>1</td>\n",
       "      <td>0.79</td>\n",
       "    </tr>\n",
       "    <tr>\n",
       "      <th>1</th>\n",
       "      <td>2</td>\n",
       "      <td>3.76</td>\n",
       "    </tr>\n",
       "    <tr>\n",
       "      <th>2</th>\n",
       "      <td>3</td>\n",
       "      <td>5.75</td>\n",
       "    </tr>\n",
       "    <tr>\n",
       "      <th>3</th>\n",
       "      <td>5</td>\n",
       "      <td>10.89</td>\n",
       "    </tr>\n",
       "    <tr>\n",
       "      <th>4</th>\n",
       "      <td>6</td>\n",
       "      <td>14.37</td>\n",
       "    </tr>\n",
       "    <tr>\n",
       "      <th>5</th>\n",
       "      <td>7</td>\n",
       "      <td>16.12</td>\n",
       "    </tr>\n",
       "    <tr>\n",
       "      <th>6</th>\n",
       "      <td>10</td>\n",
       "      <td>23.36</td>\n",
       "    </tr>\n",
       "    <tr>\n",
       "      <th>7</th>\n",
       "      <td>12</td>\n",
       "      <td>26.29</td>\n",
       "    </tr>\n",
       "  </tbody>\n",
       "</table>\n",
       "</div>"
      ],
      "text/plain": [
       "   x values  y values\n",
       "0         1      0.79\n",
       "1         2      3.76\n",
       "2         3      5.75\n",
       "3         5     10.89\n",
       "4         6     14.37\n",
       "5         7     16.12\n",
       "6        10     23.36\n",
       "7        12     26.29"
      ]
     },
     "execution_count": 92,
     "metadata": {},
     "output_type": "execute_result"
    }
   ],
   "source": [
    "#Make the data points into a dataframe\n",
    "df_2 = pd.DataFrame({'x values': x_2, 'y values':y_2})\n",
    "df_2"
   ]
  },
  {
   "cell_type": "code",
   "execution_count": 93,
   "metadata": {},
   "outputs": [
    {
     "data": {
      "text/html": [
       "<div>\n",
       "<style scoped>\n",
       "    .dataframe tbody tr th:only-of-type {\n",
       "        vertical-align: middle;\n",
       "    }\n",
       "\n",
       "    .dataframe tbody tr th {\n",
       "        vertical-align: top;\n",
       "    }\n",
       "\n",
       "    .dataframe thead th {\n",
       "        text-align: right;\n",
       "    }\n",
       "</style>\n",
       "<table border=\"1\" class=\"dataframe\">\n",
       "  <thead>\n",
       "    <tr style=\"text-align: right;\">\n",
       "      <th></th>\n",
       "      <th>x values</th>\n",
       "      <th>y values</th>\n",
       "      <th>Change in x values</th>\n",
       "      <th>Change in y values</th>\n",
       "    </tr>\n",
       "  </thead>\n",
       "  <tbody>\n",
       "    <tr>\n",
       "      <th>0</th>\n",
       "      <td>1</td>\n",
       "      <td>0.79</td>\n",
       "      <td>NaN</td>\n",
       "      <td>NaN</td>\n",
       "    </tr>\n",
       "    <tr>\n",
       "      <th>1</th>\n",
       "      <td>2</td>\n",
       "      <td>3.76</td>\n",
       "      <td>1.0</td>\n",
       "      <td>2.97</td>\n",
       "    </tr>\n",
       "    <tr>\n",
       "      <th>2</th>\n",
       "      <td>3</td>\n",
       "      <td>5.75</td>\n",
       "      <td>1.0</td>\n",
       "      <td>1.99</td>\n",
       "    </tr>\n",
       "    <tr>\n",
       "      <th>3</th>\n",
       "      <td>5</td>\n",
       "      <td>10.89</td>\n",
       "      <td>2.0</td>\n",
       "      <td>5.14</td>\n",
       "    </tr>\n",
       "    <tr>\n",
       "      <th>4</th>\n",
       "      <td>6</td>\n",
       "      <td>14.37</td>\n",
       "      <td>1.0</td>\n",
       "      <td>3.48</td>\n",
       "    </tr>\n",
       "    <tr>\n",
       "      <th>5</th>\n",
       "      <td>7</td>\n",
       "      <td>16.12</td>\n",
       "      <td>1.0</td>\n",
       "      <td>1.75</td>\n",
       "    </tr>\n",
       "    <tr>\n",
       "      <th>6</th>\n",
       "      <td>10</td>\n",
       "      <td>23.36</td>\n",
       "      <td>3.0</td>\n",
       "      <td>7.24</td>\n",
       "    </tr>\n",
       "    <tr>\n",
       "      <th>7</th>\n",
       "      <td>12</td>\n",
       "      <td>26.29</td>\n",
       "      <td>2.0</td>\n",
       "      <td>2.93</td>\n",
       "    </tr>\n",
       "  </tbody>\n",
       "</table>\n",
       "</div>"
      ],
      "text/plain": [
       "   x values  y values  Change in x values  Change in y values\n",
       "0         1      0.79                 NaN                 NaN\n",
       "1         2      3.76                 1.0                2.97\n",
       "2         3      5.75                 1.0                1.99\n",
       "3         5     10.89                 2.0                5.14\n",
       "4         6     14.37                 1.0                3.48\n",
       "5         7     16.12                 1.0                1.75\n",
       "6        10     23.36                 3.0                7.24\n",
       "7        12     26.29                 2.0                2.93"
      ]
     },
     "execution_count": 93,
     "metadata": {},
     "output_type": "execute_result"
    }
   ],
   "source": [
    "df_2['Change in x values'] = df_2['x values'].diff()\n",
    "df_2['Change in y values'] = df_2['y values'].diff()\n",
    "df_2"
   ]
  },
  {
   "attachments": {},
   "cell_type": "markdown",
   "metadata": {},
   "source": [
    "There is no similar change in y or x values which suggests that there is no proportionality between x and y values. Compared to the first part which showed that if you were to square the x values then you would create a linear proportional relationship."
   ]
  },
  {
   "cell_type": "code",
   "execution_count": 94,
   "metadata": {},
   "outputs": [
    {
     "data": {
      "image/png": "[encoded data removed]",
      "text/plain": [
       "<Figure size 640x480 with 1 Axes>"
      ]
     },
     "metadata": {},
     "output_type": "display_data"
    }
   ],
   "source": [
    "plot(df_2['x values'], df_2['Change in y values'], 'x values', 'y values', 'Graph of x vs y')"
   ]
  },
  {
   "attachments": {},
   "cell_type": "markdown",
   "metadata": {},
   "source": [
    "If there was a proportion between x and y, the graph above would be expected to be a straight line. However it jumps all over the place which suggests that there is no direct proportion between x and y values."
   ]
  },
  {
   "attachments": {},
   "cell_type": "markdown",
   "metadata": {},
   "source": [
    "1c)"
   ]
  },
  {
   "cell_type": "code",
   "execution_count": 95,
   "metadata": {},
   "outputs": [],
   "source": [
    "#Import the third dataset\n",
    "x_3 = sorted([2,6,9,15,7,25,39,4])\n",
    "y_3 = sorted([26,20,18,26,6,19,20,13])"
   ]
  },
  {
   "cell_type": "code",
   "execution_count": 96,
   "metadata": {},
   "outputs": [
    {
     "data": {
      "image/png": "[encoded data removed]",
      "text/plain": [
       "<Figure size 640x480 with 1 Axes>"
      ]
     },
     "metadata": {},
     "output_type": "display_data"
    }
   ],
   "source": [
    "#Plot the third dataset\n",
    "plot(x_3,y_3,'x values', 'y values', 'graph of x vs y')"
   ]
  },
  {
   "attachments": {},
   "cell_type": "markdown",
   "metadata": {},
   "source": [
    "From the graph it is clear that there is some relationship which involves large increases at the start but levels off at a certain point. This could following a square root graph. Put the data into a data frame to find the difference at each point from the last point to the current"
   ]
  },
  {
   "cell_type": "code",
   "execution_count": 97,
   "metadata": {},
   "outputs": [
    {
     "data": {
      "text/html": [
       "<div>\n",
       "<style scoped>\n",
       "    .dataframe tbody tr th:only-of-type {\n",
       "        vertical-align: middle;\n",
       "    }\n",
       "\n",
       "    .dataframe tbody tr th {\n",
       "        vertical-align: top;\n",
       "    }\n",
       "\n",
       "    .dataframe thead th {\n",
       "        text-align: right;\n",
       "    }\n",
       "</style>\n",
       "<table border=\"1\" class=\"dataframe\">\n",
       "  <thead>\n",
       "    <tr style=\"text-align: right;\">\n",
       "      <th></th>\n",
       "      <th>x values</th>\n",
       "      <th>y values</th>\n",
       "    </tr>\n",
       "  </thead>\n",
       "  <tbody>\n",
       "    <tr>\n",
       "      <th>0</th>\n",
       "      <td>2</td>\n",
       "      <td>6</td>\n",
       "    </tr>\n",
       "    <tr>\n",
       "      <th>1</th>\n",
       "      <td>4</td>\n",
       "      <td>13</td>\n",
       "    </tr>\n",
       "    <tr>\n",
       "      <th>2</th>\n",
       "      <td>6</td>\n",
       "      <td>18</td>\n",
       "    </tr>\n",
       "    <tr>\n",
       "      <th>3</th>\n",
       "      <td>7</td>\n",
       "      <td>19</td>\n",
       "    </tr>\n",
       "    <tr>\n",
       "      <th>4</th>\n",
       "      <td>9</td>\n",
       "      <td>20</td>\n",
       "    </tr>\n",
       "    <tr>\n",
       "      <th>5</th>\n",
       "      <td>15</td>\n",
       "      <td>20</td>\n",
       "    </tr>\n",
       "    <tr>\n",
       "      <th>6</th>\n",
       "      <td>25</td>\n",
       "      <td>26</td>\n",
       "    </tr>\n",
       "    <tr>\n",
       "      <th>7</th>\n",
       "      <td>39</td>\n",
       "      <td>26</td>\n",
       "    </tr>\n",
       "  </tbody>\n",
       "</table>\n",
       "</div>"
      ],
      "text/plain": [
       "   x values  y values\n",
       "0         2         6\n",
       "1         4        13\n",
       "2         6        18\n",
       "3         7        19\n",
       "4         9        20\n",
       "5        15        20\n",
       "6        25        26\n",
       "7        39        26"
      ]
     },
     "execution_count": 97,
     "metadata": {},
     "output_type": "execute_result"
    }
   ],
   "source": [
    "#Put the data into a dataframe\n",
    "df_3 = pd.DataFrame({'x values':x_3, 'y values':y_3})\n",
    "df_3"
   ]
  },
  {
   "cell_type": "code",
   "execution_count": 98,
   "metadata": {},
   "outputs": [
    {
     "data": {
      "text/html": [
       "<div>\n",
       "<style scoped>\n",
       "    .dataframe tbody tr th:only-of-type {\n",
       "        vertical-align: middle;\n",
       "    }\n",
       "\n",
       "    .dataframe tbody tr th {\n",
       "        vertical-align: top;\n",
       "    }\n",
       "\n",
       "    .dataframe thead th {\n",
       "        text-align: right;\n",
       "    }\n",
       "</style>\n",
       "<table border=\"1\" class=\"dataframe\">\n",
       "  <thead>\n",
       "    <tr style=\"text-align: right;\">\n",
       "      <th></th>\n",
       "      <th>x values</th>\n",
       "      <th>y values</th>\n",
       "      <th>Change in y values</th>\n",
       "    </tr>\n",
       "  </thead>\n",
       "  <tbody>\n",
       "    <tr>\n",
       "      <th>0</th>\n",
       "      <td>2</td>\n",
       "      <td>6</td>\n",
       "      <td>NaN</td>\n",
       "    </tr>\n",
       "    <tr>\n",
       "      <th>1</th>\n",
       "      <td>4</td>\n",
       "      <td>13</td>\n",
       "      <td>7.0</td>\n",
       "    </tr>\n",
       "    <tr>\n",
       "      <th>2</th>\n",
       "      <td>6</td>\n",
       "      <td>18</td>\n",
       "      <td>5.0</td>\n",
       "    </tr>\n",
       "    <tr>\n",
       "      <th>3</th>\n",
       "      <td>7</td>\n",
       "      <td>19</td>\n",
       "      <td>1.0</td>\n",
       "    </tr>\n",
       "    <tr>\n",
       "      <th>4</th>\n",
       "      <td>9</td>\n",
       "      <td>20</td>\n",
       "      <td>1.0</td>\n",
       "    </tr>\n",
       "    <tr>\n",
       "      <th>5</th>\n",
       "      <td>15</td>\n",
       "      <td>20</td>\n",
       "      <td>0.0</td>\n",
       "    </tr>\n",
       "    <tr>\n",
       "      <th>6</th>\n",
       "      <td>25</td>\n",
       "      <td>26</td>\n",
       "      <td>6.0</td>\n",
       "    </tr>\n",
       "    <tr>\n",
       "      <th>7</th>\n",
       "      <td>39</td>\n",
       "      <td>26</td>\n",
       "      <td>0.0</td>\n",
       "    </tr>\n",
       "  </tbody>\n",
       "</table>\n",
       "</div>"
      ],
      "text/plain": [
       "   x values  y values  Change in y values\n",
       "0         2         6                 NaN\n",
       "1         4        13                 7.0\n",
       "2         6        18                 5.0\n",
       "3         7        19                 1.0\n",
       "4         9        20                 1.0\n",
       "5        15        20                 0.0\n",
       "6        25        26                 6.0\n",
       "7        39        26                 0.0"
      ]
     },
     "execution_count": 98,
     "metadata": {},
     "output_type": "execute_result"
    }
   ],
   "source": [
    "df_3['Change in y values'] = df_3['y values'].diff()\n",
    "df_3"
   ]
  },
  {
   "attachments": {},
   "cell_type": "markdown",
   "metadata": {},
   "source": [
    "There is no clear pattern. The difference is large and then decreases to 0 which then spikes back up to 6 for one value but then goes back to 0. This suggests that there is no constant proportionality between x and y values"
   ]
  },
  {
   "cell_type": "code",
   "execution_count": 99,
   "metadata": {},
   "outputs": [
    {
     "data": {
      "text/html": [
       "<div>\n",
       "<style scoped>\n",
       "    .dataframe tbody tr th:only-of-type {\n",
       "        vertical-align: middle;\n",
       "    }\n",
       "\n",
       "    .dataframe tbody tr th {\n",
       "        vertical-align: top;\n",
       "    }\n",
       "\n",
       "    .dataframe thead th {\n",
       "        text-align: right;\n",
       "    }\n",
       "</style>\n",
       "<table border=\"1\" class=\"dataframe\">\n",
       "  <thead>\n",
       "    <tr style=\"text-align: right;\">\n",
       "      <th></th>\n",
       "      <th>x values</th>\n",
       "      <th>y values</th>\n",
       "      <th>Change in y values</th>\n",
       "      <th>Derivative of graph at different x values</th>\n",
       "    </tr>\n",
       "  </thead>\n",
       "  <tbody>\n",
       "    <tr>\n",
       "      <th>0</th>\n",
       "      <td>2</td>\n",
       "      <td>6</td>\n",
       "      <td>NaN</td>\n",
       "      <td>NaN</td>\n",
       "    </tr>\n",
       "    <tr>\n",
       "      <th>1</th>\n",
       "      <td>4</td>\n",
       "      <td>13</td>\n",
       "      <td>7.0</td>\n",
       "      <td>NaN</td>\n",
       "    </tr>\n",
       "    <tr>\n",
       "      <th>2</th>\n",
       "      <td>6</td>\n",
       "      <td>18</td>\n",
       "      <td>5.0</td>\n",
       "      <td>-2.0</td>\n",
       "    </tr>\n",
       "    <tr>\n",
       "      <th>3</th>\n",
       "      <td>7</td>\n",
       "      <td>19</td>\n",
       "      <td>1.0</td>\n",
       "      <td>-4.0</td>\n",
       "    </tr>\n",
       "    <tr>\n",
       "      <th>4</th>\n",
       "      <td>9</td>\n",
       "      <td>20</td>\n",
       "      <td>1.0</td>\n",
       "      <td>0.0</td>\n",
       "    </tr>\n",
       "    <tr>\n",
       "      <th>5</th>\n",
       "      <td>15</td>\n",
       "      <td>20</td>\n",
       "      <td>0.0</td>\n",
       "      <td>-1.0</td>\n",
       "    </tr>\n",
       "    <tr>\n",
       "      <th>6</th>\n",
       "      <td>25</td>\n",
       "      <td>26</td>\n",
       "      <td>6.0</td>\n",
       "      <td>6.0</td>\n",
       "    </tr>\n",
       "    <tr>\n",
       "      <th>7</th>\n",
       "      <td>39</td>\n",
       "      <td>26</td>\n",
       "      <td>0.0</td>\n",
       "      <td>-6.0</td>\n",
       "    </tr>\n",
       "  </tbody>\n",
       "</table>\n",
       "</div>"
      ],
      "text/plain": [
       "   x values  y values  Change in y values  \\\n",
       "0         2         6                 NaN   \n",
       "1         4        13                 7.0   \n",
       "2         6        18                 5.0   \n",
       "3         7        19                 1.0   \n",
       "4         9        20                 1.0   \n",
       "5        15        20                 0.0   \n",
       "6        25        26                 6.0   \n",
       "7        39        26                 0.0   \n",
       "\n",
       "   Derivative of graph at different x values  \n",
       "0                                        NaN  \n",
       "1                                        NaN  \n",
       "2                                       -2.0  \n",
       "3                                       -4.0  \n",
       "4                                        0.0  \n",
       "5                                       -1.0  \n",
       "6                                        6.0  \n",
       "7                                       -6.0  "
      ]
     },
     "execution_count": 99,
     "metadata": {},
     "output_type": "execute_result"
    }
   ],
   "source": [
    "df_3['Derivative of graph at different x values'] = df_3['Change in y values'].diff()\n",
    "df_3"
   ]
  },
  {
   "cell_type": "code",
   "execution_count": 100,
   "metadata": {},
   "outputs": [
    {
     "data": {
      "image/png": "[encoded data removed]",
      "text/plain": [
       "<Figure size 640x480 with 1 Axes>"
      ]
     },
     "metadata": {},
     "output_type": "display_data"
    }
   ],
   "source": [
    "plot(df_3['x values'], df_3['Derivative of graph at different x values'], 'x values', 'y values', 'graph of derivative of y vs x')"
   ]
  },
  {
   "attachments": {},
   "cell_type": "markdown",
   "metadata": {},
   "source": [
    "It is not reasonable to assume that y is proportional to x. The rate of change of y values is not constant which means that x is not proportional to the resulting y values."
   ]
  },
  {
   "attachments": {},
   "cell_type": "markdown",
   "metadata": {},
   "source": [
    "2. (15 points) Suppose there is a population of dragonflies living among a population of mosquitoes at a\n",
    "certain location. We will measure dragonflies in hundreds, and mosquitoes in hundred-thousands. A\n",
    "significant portion of the dragonflies diet consists of the mosquitoes. If there are no mosquitoes, we know\n",
    "that from month to month we can expect only 40% of the dragonflies to survive, yet without dragonflies we\n",
    "know mosquitoes will grow at 20%. Furthermore, without any population growth - mosquitoes decease at a\n",
    "rate of a fifth of the dragonfly population. Without any population growth, it takes twice the units of\n",
    "mosquitoes just to maintain population levels of dragonflies. Suppose there are initially 500 (units) of\n",
    "dragonflies and 250 (units) of mosquitoes. Explain and model this system and decide if both species can\n",
    "survive in this location. Furthermore, explain what would happen if a beneficial mutation of dragonflies\n",
    "increased their life expectancy to 80%"
   ]
  },
  {
   "cell_type": "code",
   "execution_count": 101,
   "metadata": {},
   "outputs": [],
   "source": [
    "import sympy\n",
    "from sympy.matrices import Matrix\n",
    "from sympy import diag"
   ]
  },
  {
   "cell_type": "code",
   "execution_count": 102,
   "metadata": {},
   "outputs": [
    {
     "data": {
      "text/latex": [
       "$\\displaystyle \\left[\\begin{matrix}0.4 & 0.5\\\\-0.2 & 1.2\\end{matrix}\\right]$"
      ],
      "text/plain": [
       "Matrix([\n",
       "[ 0.4, 0.5],\n",
       "[-0.2, 1.2]])"
      ]
     },
     "execution_count": 102,
     "metadata": {},
     "output_type": "execute_result"
    }
   ],
   "source": [
    "B = Matrix([[0.4,0.5],[-0.2,1.2]])\n",
    "B"
   ]
  },
  {
   "cell_type": "code",
   "execution_count": 103,
   "metadata": {},
   "outputs": [],
   "source": [
    "S,D = B.diagonalize()"
   ]
  },
  {
   "cell_type": "code",
   "execution_count": 104,
   "metadata": {},
   "outputs": [
    {
     "data": {
      "text/latex": [
       "$\\displaystyle \\left[\\begin{matrix}0.555051025721682 & 0\\\\0 & 1.04494897427832\\end{matrix}\\right]$"
      ],
      "text/plain": [
       "Matrix([\n",
       "[0.555051025721682,                0],\n",
       "[                0, 1.04494897427832]])"
      ]
     },
     "execution_count": 104,
     "metadata": {},
     "output_type": "execute_result"
    }
   ],
   "source": [
    "D"
   ]
  },
  {
   "cell_type": "code",
   "execution_count": 105,
   "metadata": {},
   "outputs": [
    {
     "data": {
      "text/latex": [
       "$\\displaystyle \\left[\\begin{matrix}2.71200793347194 \\cdot 10^{-26} & 0\\\\0 & 81.1910953748244\\end{matrix}\\right]$"
      ],
      "text/plain": [
       "Matrix([\n",
       "[2.71200793347194e-26,                0],\n",
       "[                   0, 81.1910953748244]])"
      ]
     },
     "execution_count": 105,
     "metadata": {},
     "output_type": "execute_result"
    }
   ],
   "source": [
    "D**100"
   ]
  },
  {
   "attachments": {},
   "cell_type": "markdown",
   "metadata": {},
   "source": [
    "You can see that as time goes on this first multiplicative value gets very small. However the second value continues to grow because there is a positive growth rate. This means that the two species should be able to exist for any t amount of time."
   ]
  },
  {
   "cell_type": "code",
   "execution_count": 106,
   "metadata": {},
   "outputs": [
    {
     "data": {
      "text/latex": [
       "$\\displaystyle \\left[\\begin{matrix}0.4 & 0.5\\\\-0.2 & 1.2\\end{matrix}\\right]$"
      ],
      "text/plain": [
       "Matrix([\n",
       "[ 0.4, 0.5],\n",
       "[-0.2, 1.2]])"
      ]
     },
     "execution_count": 106,
     "metadata": {},
     "output_type": "execute_result"
    }
   ],
   "source": [
    "S*D*(S**-1)"
   ]
  },
  {
   "cell_type": "code",
   "execution_count": 107,
   "metadata": {},
   "outputs": [],
   "source": [
    "x0 = Matrix([[500],[250]])"
   ]
  },
  {
   "cell_type": "code",
   "execution_count": 108,
   "metadata": {},
   "outputs": [
    {
     "data": {
      "text/latex": [
       "$\\displaystyle \\left[\\begin{matrix}233.486683595238\\\\301.170951904796\\end{matrix}\\right]$"
      ],
      "text/plain": [
       "Matrix([\n",
       "[233.486683595238],\n",
       "[301.170951904796]])"
      ]
     },
     "execution_count": 108,
     "metadata": {},
     "output_type": "execute_result"
    }
   ],
   "source": [
    "S*D**20*S**(-1)*x0"
   ]
  },
  {
   "cell_type": "code",
   "execution_count": 109,
   "metadata": {},
   "outputs": [
    {
     "data": {
      "text/latex": [
       "$\\displaystyle \\left[\\begin{matrix}873.190216870151\\\\1126.32626944047\\end{matrix}\\right]$"
      ],
      "text/plain": [
       "Matrix([\n",
       "[873.190216870151],\n",
       "[1126.32626944047]])"
      ]
     },
     "execution_count": 109,
     "metadata": {},
     "output_type": "execute_result"
    }
   ],
   "source": [
    "S*D**50*S**(-1)*x0"
   ]
  },
  {
   "attachments": {},
   "cell_type": "markdown",
   "metadata": {},
   "source": [
    "You can see how the values of dragon flies and mosquitoes increase with the time from month to month increasing. Which suggests that both animals are able to exist at the same time."
   ]
  },
  {
   "cell_type": "code",
   "execution_count": 110,
   "metadata": {},
   "outputs": [],
   "source": [
    "# List to store population values over time\n",
    "dragonflies = []\n",
    "mosquitoes = []"
   ]
  },
  {
   "cell_type": "code",
   "execution_count": 111,
   "metadata": {},
   "outputs": [],
   "source": [
    "#Set a high number of months\n",
    "months = 100"
   ]
  },
  {
   "cell_type": "code",
   "execution_count": 112,
   "metadata": {},
   "outputs": [],
   "source": [
    "# Calculate populations at each time step\n",
    "for t in range(months):\n",
    "    # Calculate populations at time t\n",
    "    populations_t = (B**t) * x0\n",
    "    dragonflies.append(populations_t[0])\n",
    "    mosquitoes.append(populations_t[1])"
   ]
  },
  {
   "cell_type": "code",
   "execution_count": 113,
   "metadata": {},
   "outputs": [],
   "source": [
    "# Convert populations to numpy arrays for plotting\n",
    "dragonflies = np.array(dragonflies).flatten()\n",
    "mosquitoes = np.array(mosquitoes).flatten()"
   ]
  },
  {
   "cell_type": "code",
   "execution_count": 114,
   "metadata": {},
   "outputs": [],
   "source": [
    "# Create time array\n",
    "time = np.arange(len(dragonflies))"
   ]
  },
  {
   "cell_type": "code",
   "execution_count": 115,
   "metadata": {},
   "outputs": [
    {
     "data": {
      "image/png": "[encoded data removed]",
      "text/plain": [
       "<Figure size 640x480 with 1 Axes>"
      ]
     },
     "metadata": {},
     "output_type": "display_data"
    }
   ],
   "source": [
    "# Plot populations over time\n",
    "plt.plot(time, dragonflies, label='Dragonflies')\n",
    "plt.plot(time, mosquitoes, label='Mosquitoes')\n",
    "plt.xlabel('Time')\n",
    "plt.ylabel('Population')\n",
    "plt.title('Population Dynamics over Time')\n",
    "plt.legend()\n",
    "plt.grid(True)\n",
    "plt.xlim(0, months-1)\n",
    "plt.show()\n",
    "plt.show()"
   ]
  },
  {
   "attachments": {},
   "cell_type": "markdown",
   "metadata": {},
   "source": [
    "You can observe how the populations change over time. "
   ]
  },
  {
   "attachments": {},
   "cell_type": "markdown",
   "metadata": {},
   "source": [
    "Part 2B"
   ]
  },
  {
   "cell_type": "code",
   "execution_count": 154,
   "metadata": {},
   "outputs": [
    {
     "data": {
      "text/latex": [
       "$\\displaystyle \\left[\\begin{matrix}0.565 & 0.5\\\\-0.2 & 1.2\\end{matrix}\\right]$"
      ],
      "text/plain": [
       "Matrix([\n",
       "[0.565, 0.5],\n",
       "[ -0.2, 1.2]])"
      ]
     },
     "execution_count": 154,
     "metadata": {},
     "output_type": "execute_result"
    }
   ],
   "source": [
    "B_2 = Matrix([[0.565,0.5],[-0.2,1.2]])\n",
    "B_2"
   ]
  },
  {
   "cell_type": "code",
   "execution_count": 155,
   "metadata": {},
   "outputs": [
    {
     "data": {
      "text/latex": [
       "$\\displaystyle \\left[\\begin{matrix}0.854105458270999 & 0\\\\0 & 0.910894541729001\\end{matrix}\\right]$"
      ],
      "text/plain": [
       "Matrix([\n",
       "[0.854105458270999,                 0],\n",
       "[                0, 0.910894541729001]])"
      ]
     },
     "execution_count": 155,
     "metadata": {},
     "output_type": "execute_result"
    }
   ],
   "source": [
    "S_2,D_2 = B_2.diagonalize()\n",
    "D_2"
   ]
  },
  {
   "cell_type": "code",
   "execution_count": 156,
   "metadata": {},
   "outputs": [
    {
     "data": {
      "text/latex": [
       "$\\displaystyle \\left[\\begin{matrix}0.565 & 0.5\\\\-0.2 & 1.2\\end{matrix}\\right]$"
      ],
      "text/plain": [
       "Matrix([\n",
       "[0.565, 0.5],\n",
       "[ -0.2, 1.2]])"
      ]
     },
     "execution_count": 156,
     "metadata": {},
     "output_type": "execute_result"
    }
   ],
   "source": [
    "S_2*D_2*(S_2**-1)"
   ]
  },
  {
   "attachments": {},
   "cell_type": "markdown",
   "metadata": {},
   "source": [
    "When trying to apply the 0.8 value instead of 0.4 as the life expectancy. It results in an error. A value of 0.565 seemed to be the highest value that you could use in this formula until the problem below arises."
   ]
  },
  {
   "cell_type": "code",
   "execution_count": 157,
   "metadata": {},
   "outputs": [
    {
     "data": {
      "text/latex": [
       "$\\displaystyle \\left[\\begin{matrix}0.8 & 0.5\\\\-0.2 & 1.2\\end{matrix}\\right]$"
      ],
      "text/plain": [
       "Matrix([\n",
       "[ 0.8, 0.5],\n",
       "[-0.2, 1.2]])"
      ]
     },
     "execution_count": 157,
     "metadata": {},
     "output_type": "execute_result"
    }
   ],
   "source": [
    "B_2 = Matrix([[0.8,0.5],[-0.2,1.2]])\n",
    "B_2"
   ]
  },
  {
   "cell_type": "code",
   "execution_count": 158,
   "metadata": {},
   "outputs": [
    {
     "data": {
      "text/latex": [
       "$\\displaystyle \\left[\\begin{matrix}1.0 - 0.244948974278318 i & 0\\\\0 & 1.0 + 0.244948974278318 i\\end{matrix}\\right]$"
      ],
      "text/plain": [
       "Matrix([\n",
       "[1.0 - 0.244948974278318*I,                         0],\n",
       "[                        0, 1.0 + 0.244948974278318*I]])"
      ]
     },
     "execution_count": 158,
     "metadata": {},
     "output_type": "execute_result"
    }
   ],
   "source": [
    "S_2,D_2 = B_2.diagonalize()\n",
    "D_2"
   ]
  },
  {
   "cell_type": "code",
   "execution_count": 159,
   "metadata": {},
   "outputs": [
    {
     "data": {
      "text/latex": [
       "$\\displaystyle \\left[\\begin{matrix}0.763762615825973 i \\left(-0.534522483824849 - 0.654653670707977 i\\right) \\left(1.0 - 0.244948974278318 i\\right) + \\left(0.545544725589981 + 3.09082900376133 \\cdot 10^{-17} i\\right) \\left(0.916515138991168 + 0.748331477354788 i\\right) \\left(1.0 + 0.244948974278318 i\\right) & \\left(-0.545544725589981 - 0.668153104781061 i\\right) \\left(0.916515138991168 + 0.748331477354788 i\\right) \\left(1.0 + 0.244948974278318 i\\right) + \\left(-0.935414346693486 - 0.763762615825973 i\\right) \\left(-0.534522483824849 - 0.654653670707977 i\\right) \\left(1.0 - 0.244948974278318 i\\right)\\\\0.763762615825973 i \\left(-0.534522483824849 + 0.130930734141595 i\\right) + \\left(1.31557376381616 \\cdot 10^{-64} + 0.748331477354788 i\\right) \\left(0.545544725589981 + 3.09082900376133 \\cdot 10^{-17} i\\right) \\left(1.0 + 0.244948974278318 i\\right) & \\left(-0.545544725589981 - 0.668153104781061 i\\right) \\left(1.31557376381616 \\cdot 10^{-64} + 0.748331477354788 i\\right) \\left(1.0 + 0.244948974278318 i\\right) + \\left(-0.935414346693486 - 0.763762615825973 i\\right) \\left(-0.534522483824849 + 0.130930734141595 i\\right)\\end{matrix}\\right]$"
      ],
      "text/plain": [
       "Matrix([\n",
       "[0.763762615825973*I*(-0.534522483824849 - 0.654653670707977*I)*(1.0 - 0.244948974278318*I) + (0.545544725589981 + 3.09082900376133e-17*I)*(0.916515138991168 + 0.748331477354788*I)*(1.0 + 0.244948974278318*I), (-0.545544725589981 - 0.668153104781061*I)*(0.916515138991168 + 0.748331477354788*I)*(1.0 + 0.244948974278318*I) + (-0.935414346693486 - 0.763762615825973*I)*(-0.534522483824849 - 0.654653670707977*I)*(1.0 - 0.244948974278318*I)],\n",
       "[                         0.763762615825973*I*(-0.534522483824849 + 0.130930734141595*I) + (1.31557376381616e-64 + 0.748331477354788*I)*(0.545544725589981 + 3.09082900376133e-17*I)*(1.0 + 0.244948974278318*I),                          (-0.545544725589981 - 0.668153104781061*I)*(1.31557376381616e-64 + 0.748331477354788*I)*(1.0 + 0.244948974278318*I) + (-0.935414346693486 - 0.763762615825973*I)*(-0.534522483824849 + 0.130930734141595*I)]])"
      ]
     },
     "execution_count": 159,
     "metadata": {},
     "output_type": "execute_result"
    }
   ],
   "source": [
    "S_2*D_2*(S_2**-1)"
   ]
  },
  {
   "attachments": {},
   "cell_type": "markdown",
   "metadata": {},
   "source": [
    "I am not sure how to solve this issue."
   ]
  },
  {
   "attachments": {},
   "cell_type": "markdown",
   "metadata": {},
   "source": [
    "3. (10 points) An Icyball seller on the Northside of Pittsburgh wants to model the number of cones\n",
    "he will sell, C, in terms of the daily attendance a at the park nearby, the temperature T , the price\n",
    "p, and the number of other food vendors n. He makes the following assumptions:\n",
    "• C is directly proportional to a and the difference between T and 75oF.\n",
    "• C is inversely proportional to p and n.\n",
    "Derive a model for C consistent with these assumptions, with explanation. For what values of T is\n",
    "this model valid?"
   ]
  },
  {
   "cell_type": "code",
   "execution_count": 120,
   "metadata": {},
   "outputs": [
    {
     "data": {
      "text/plain": [
       "0.8"
      ]
     },
     "execution_count": 120,
     "metadata": {},
     "output_type": "execute_result"
    }
   ],
   "source": [
    "#c is the total number of sales of Icyball'S\n",
    "#a is the number of people who attend the park\n",
    "#T is the temperature on any given day\n",
    "#n is the number of other vendors\n",
    "#p is the price of the Icyball\n",
    "#k is the value that we are looking for to represent the relationship between C and the other variables\n",
    "\n",
    "#The following is an average above average temperature day during the summer\n",
    "c=100\n",
    "a=150\n",
    "T=100\n",
    "n=10\n",
    "p=3\n",
    "k = 'missing values'\n",
    "\n",
    "#c = k*((a * (T-75))/(p*n))\n",
    "\n",
    "#Transpose this equation to get k by itself\n",
    "k = (c*p*n)/(a * (T-75))\n",
    "k\n"
   ]
  },
  {
   "attachments": {},
   "cell_type": "markdown",
   "metadata": {},
   "source": [
    "The k value is 0.8 which works for the system. This creates a model where c is equal to the multiplication of attendance and daily temperature less 75, divided by the values of price and the number of others vendors. You can now use this k value to solve for c values based on the values that can be collected about the parameters\n",
    "\n",
    "In terms of looking at the temperature in this equation. Days that are equal to 75 degrees farenheit there is going to be no sales of ice creams, this is not exactly what would be expected in reality. Another outcome is when the temperture is less than 75 degree farenheit and this would result in negative sales. This obviously results in the prediction of sales to be suitable only within a certain range of values. Suggesting that this equation may only be suitable given certain conditions."
   ]
  },
  {
   "attachments": {},
   "cell_type": "markdown",
   "metadata": {},
   "source": [
    "4. (20 points) For each of the datasets below, fit at least two models each by transforming the data\n",
    "appropriately. Graph the residuals and analyze how well the model fits the data, indicating what you\n",
    "believe to be the best model, with explanation"
   ]
  },
  {
   "attachments": {},
   "cell_type": "markdown",
   "metadata": {},
   "source": [
    "Refer to the word document for Q4"
   ]
  }
 ],
 "metadata": {
  "kernelspec": {
   "display_name": "base",
   "language": "python",
   "name": "python3"
  },
  "language_info": {
   "codemirror_mode": {
    "name": "ipython",
    "version": 3
   },
   "file_extension": ".py",
   "mimetype": "text/x-python",
   "name": "python",
   "nbconvert_exporter": "python",
   "pygments_lexer": "ipython3",
   "version": "3.9.13"
  },
  "orig_nbformat": 4
 },
 "nbformat": 4,
 "nbformat_minor": 2
}
